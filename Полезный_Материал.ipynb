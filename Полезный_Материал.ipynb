{
  "nbformat": 4,
  "nbformat_minor": 0,
  "metadata": {
    "colab": {
      "provenance": []
    },
    "kernelspec": {
      "name": "python3",
      "display_name": "Python 3"
    },
    "language_info": {
      "name": "python"
    }
  },
  "cells": [
    {
      "cell_type": "markdown",
      "source": [
        "# Загрузка данных"
      ],
      "metadata": {
        "id": "jE8fAP7i53Q8"
      }
    },
    {
      "cell_type": "markdown",
      "source": [
        "https://www.kaggle.com/shubh0799/churn-modelling"
      ],
      "metadata": {
        "id": "sISmOvP27OZ-"
      }
    },
    {
      "cell_type": "markdown",
      "source": [
        "https://drive.google.com/file/d/1Ym8EaWePP17RvrweKhWzCJmITXLgqvCZ/view?usp=sharing"
      ],
      "metadata": {
        "id": "1QkJiyFc3dgc"
      }
    },
    {
      "cell_type": "code",
      "source": [
        "! gdown --id 1Ym8EaWePP17RvrweKhWzCJmITXLgqvCZ"
      ],
      "metadata": {
        "colab": {
          "base_uri": "https://localhost:8080/"
        },
        "id": "_YfuREP97R6r",
        "outputId": "ddf5eaaa-9233-49b5-a290-e652e0ca83c7"
      },
      "execution_count": null,
      "outputs": [
        {
          "output_type": "stream",
          "name": "stdout",
          "text": [
            "/usr/local/lib/python3.10/dist-packages/gdown/cli.py:138: FutureWarning: Option `--id` was deprecated in version 4.3.1 and will be removed in 5.0. You don't need to pass it anymore to use a file ID.\n",
            "  warnings.warn(\n",
            "Downloading...\n",
            "From: https://drive.google.com/uc?id=1Ym8EaWePP17RvrweKhWzCJmITXLgqvCZ\n",
            "To: /content/churn-modeling.zip\n",
            "100% 268k/268k [00:00<00:00, 105MB/s]\n"
          ]
        }
      ]
    },
    {
      "cell_type": "code",
      "source": [
        "import pandas as pd"
      ],
      "metadata": {
        "id": "ewe-YpH67URl"
      },
      "execution_count": null,
      "outputs": []
    },
    {
      "cell_type": "code",
      "source": [
        "df = pd.read_csv('/content/churn-modeling.zip')"
      ],
      "metadata": {
        "id": "gepq9rRm7XMg"
      },
      "execution_count": null,
      "outputs": []
    },
    {
      "cell_type": "markdown",
      "source": [
        "# Обучающая, валидационная и тестовая выборка"
      ],
      "metadata": {
        "id": "gom7iivspMTY"
      }
    },
    {
      "cell_type": "code",
      "execution_count": null,
      "metadata": {
        "id": "ZVKWDXi7nCzX"
      },
      "outputs": [],
      "source": [
        "from sklearn.model_selection import train_test_split"
      ]
    },
    {
      "cell_type": "code",
      "execution_count": null,
      "metadata": {
        "id": "dqPPX1HOqROI"
      },
      "outputs": [],
      "source": [
        "train, test = train_test_split(df,train_size=0.6,random_state=42,stratify=df['Exited'])"
      ]
    },
    {
      "cell_type": "code",
      "execution_count": null,
      "metadata": {
        "id": "qJMAgflu-L7X"
      },
      "outputs": [],
      "source": [
        "val, test = train_test_split(test,train_size=0.5,random_state=42,stratify=test['Exited'])"
      ]
    },
    {
      "cell_type": "markdown",
      "source": [
        "# Обучение модели"
      ],
      "metadata": {
        "id": "jFrZkuRqhZ4E"
      }
    },
    {
      "cell_type": "code",
      "source": [
        "! pip install catboost"
      ],
      "metadata": {
        "colab": {
          "base_uri": "https://localhost:8080/"
        },
        "id": "oh99cs-8rPpL",
        "outputId": "7cd5a037-537b-43e8-b3e0-e66e4287787b"
      },
      "execution_count": null,
      "outputs": [
        {
          "output_type": "stream",
          "name": "stdout",
          "text": [
            "Collecting catboost\n",
            "  Downloading catboost-1.2.3-cp310-cp310-manylinux2014_x86_64.whl (98.5 MB)\n",
            "\u001b[2K     \u001b[90m━━━━━━━━━━━━━━━━━━━━━━━━━━━━━━━━━━━━━━━━\u001b[0m \u001b[32m98.5/98.5 MB\u001b[0m \u001b[31m6.1 MB/s\u001b[0m eta \u001b[36m0:00:00\u001b[0m\n",
            "\u001b[?25hRequirement already satisfied: graphviz in /usr/local/lib/python3.10/dist-packages (from catboost) (0.20.1)\n",
            "Requirement already satisfied: matplotlib in /usr/local/lib/python3.10/dist-packages (from catboost) (3.7.1)\n",
            "Requirement already satisfied: numpy>=1.16.0 in /usr/local/lib/python3.10/dist-packages (from catboost) (1.25.2)\n",
            "Requirement already satisfied: pandas>=0.24 in /usr/local/lib/python3.10/dist-packages (from catboost) (1.5.3)\n",
            "Requirement already satisfied: scipy in /usr/local/lib/python3.10/dist-packages (from catboost) (1.11.4)\n",
            "Requirement already satisfied: plotly in /usr/local/lib/python3.10/dist-packages (from catboost) (5.15.0)\n",
            "Requirement already satisfied: six in /usr/local/lib/python3.10/dist-packages (from catboost) (1.16.0)\n",
            "Requirement already satisfied: python-dateutil>=2.8.1 in /usr/local/lib/python3.10/dist-packages (from pandas>=0.24->catboost) (2.8.2)\n",
            "Requirement already satisfied: pytz>=2020.1 in /usr/local/lib/python3.10/dist-packages (from pandas>=0.24->catboost) (2023.4)\n",
            "Requirement already satisfied: contourpy>=1.0.1 in /usr/local/lib/python3.10/dist-packages (from matplotlib->catboost) (1.2.0)\n",
            "Requirement already satisfied: cycler>=0.10 in /usr/local/lib/python3.10/dist-packages (from matplotlib->catboost) (0.12.1)\n",
            "Requirement already satisfied: fonttools>=4.22.0 in /usr/local/lib/python3.10/dist-packages (from matplotlib->catboost) (4.49.0)\n",
            "Requirement already satisfied: kiwisolver>=1.0.1 in /usr/local/lib/python3.10/dist-packages (from matplotlib->catboost) (1.4.5)\n",
            "Requirement already satisfied: packaging>=20.0 in /usr/local/lib/python3.10/dist-packages (from matplotlib->catboost) (23.2)\n",
            "Requirement already satisfied: pillow>=6.2.0 in /usr/local/lib/python3.10/dist-packages (from matplotlib->catboost) (9.4.0)\n",
            "Requirement already satisfied: pyparsing>=2.3.1 in /usr/local/lib/python3.10/dist-packages (from matplotlib->catboost) (3.1.1)\n",
            "Requirement already satisfied: tenacity>=6.2.0 in /usr/local/lib/python3.10/dist-packages (from plotly->catboost) (8.2.3)\n",
            "Installing collected packages: catboost\n",
            "Successfully installed catboost-1.2.3\n"
          ]
        }
      ]
    },
    {
      "cell_type": "code",
      "source": [
        "from catboost import CatBoostClassifier"
      ],
      "metadata": {
        "id": "ud0l7hiSrkbQ"
      },
      "execution_count": null,
      "outputs": []
    },
    {
      "cell_type": "code",
      "source": [
        "X = ['CustomerId', 'CreditScore', 'Geography',\n",
        "       'Gender', 'Age', 'Tenure', 'Balance', 'NumOfProducts', 'HasCrCard',\n",
        "       'IsActiveMember', 'EstimatedSalary']\n",
        "\n",
        "cat_features = ['Geography','Gender']\n",
        "\n",
        "y = ['Exited']"
      ],
      "metadata": {
        "id": "iGUEYDL_ygh_"
      },
      "execution_count": null,
      "outputs": []
    },
    {
      "cell_type": "code",
      "source": [
        "from catboost import Pool\n",
        "\n",
        "train_data = Pool(data=train[X],\n",
        "                  label=train[y],\n",
        "                  cat_features=cat_features\n",
        "                 )\n",
        "\n",
        "valid_data = Pool(data=val[X],\n",
        "                  label=val[y],\n",
        "                  cat_features=cat_features\n",
        "                 )\n",
        "\n",
        "test_data = Pool(data=test[X],\n",
        "                  label=test[y],\n",
        "                  cat_features=cat_features\n",
        "                 )"
      ],
      "metadata": {
        "id": "0lBBzmXgzMeH"
      },
      "execution_count": null,
      "outputs": []
    },
    {
      "cell_type": "code",
      "source": [
        "params = {'verbose':100,\n",
        "          'eval_metric':'AUC',\n",
        "          'loss_function': 'Logloss',\n",
        "          'random_seed':42,\n",
        "          'learning_rate':0.01}"
      ],
      "metadata": {
        "id": "ehYMitt2zPdZ"
      },
      "execution_count": null,
      "outputs": []
    },
    {
      "cell_type": "code",
      "source": [
        "model = CatBoostClassifier(**params)"
      ],
      "metadata": {
        "id": "y0yJ1BeWzPda"
      },
      "execution_count": null,
      "outputs": []
    },
    {
      "cell_type": "code",
      "source": [
        "model.fit(train_data,eval_set=valid_data)"
      ],
      "metadata": {
        "colab": {
          "base_uri": "https://localhost:8080/"
        },
        "id": "XmpcnphbzWHj",
        "outputId": "a9e45a7b-9554-482c-a7b9-dddad6fc476b"
      },
      "execution_count": null,
      "outputs": [
        {
          "output_type": "stream",
          "name": "stdout",
          "text": [
            "0:\ttest: 0.8338545\tbest: 0.8338545 (0)\ttotal: 69ms\tremaining: 1m 8s\n",
            "100:\ttest: 0.8725090\tbest: 0.8725090 (100)\ttotal: 1.12s\tremaining: 9.98s\n",
            "200:\ttest: 0.8784656\tbest: 0.8784656 (200)\ttotal: 2.15s\tremaining: 8.53s\n",
            "300:\ttest: 0.8812676\tbest: 0.8812676 (300)\ttotal: 2.98s\tremaining: 6.92s\n",
            "400:\ttest: 0.8823868\tbest: 0.8824376 (390)\ttotal: 3.95s\tremaining: 5.91s\n",
            "500:\ttest: 0.8834491\tbest: 0.8834522 (498)\ttotal: 6.26s\tremaining: 6.24s\n",
            "600:\ttest: 0.8834737\tbest: 0.8836554 (564)\ttotal: 8.38s\tremaining: 5.56s\n",
            "700:\ttest: 0.8837847\tbest: 0.8838694 (685)\ttotal: 10.3s\tremaining: 4.41s\n",
            "800:\ttest: 0.8834383\tbest: 0.8838694 (685)\ttotal: 12.1s\tremaining: 3.01s\n",
            "900:\ttest: 0.8829318\tbest: 0.8838694 (685)\ttotal: 14.1s\tremaining: 1.55s\n",
            "999:\ttest: 0.8822744\tbest: 0.8838694 (685)\ttotal: 15.8s\tremaining: 0us\n",
            "\n",
            "bestTest = 0.8838694083\n",
            "bestIteration = 685\n",
            "\n",
            "Shrink model to first 686 iterations.\n"
          ]
        },
        {
          "output_type": "execute_result",
          "data": {
            "text/plain": [
              "<catboost.core.CatBoostClassifier at 0x7c3c6addb430>"
            ]
          },
          "metadata": {},
          "execution_count": 13
        }
      ]
    },
    {
      "cell_type": "code",
      "source": [
        "n_iters = model.best_iteration_ + 1"
      ],
      "metadata": {
        "id": "ORFx77b_Clrr"
      },
      "execution_count": null,
      "outputs": []
    },
    {
      "cell_type": "code",
      "source": [
        "n_iters"
      ],
      "metadata": {
        "colab": {
          "base_uri": "https://localhost:8080/"
        },
        "id": "7w5-2vglFYc_",
        "outputId": "621665c7-c2b4-4cb0-89a3-952797ae6e9a"
      },
      "execution_count": null,
      "outputs": [
        {
          "output_type": "execute_result",
          "data": {
            "text/plain": [
              "686"
            ]
          },
          "metadata": {},
          "execution_count": 15
        }
      ]
    },
    {
      "cell_type": "code",
      "source": [
        "params = {'iterations':n_iters,\n",
        "          'verbose':100,\n",
        "          'eval_metric':'AUC',\n",
        "          'loss_function': 'Logloss',\n",
        "          'random_seed':42,\n",
        "          'learning_rate':0.01}"
      ],
      "metadata": {
        "id": "7lyOHQPLCc1W"
      },
      "execution_count": null,
      "outputs": []
    },
    {
      "cell_type": "code",
      "source": [
        "model = CatBoostClassifier(**params)"
      ],
      "metadata": {
        "id": "0Oc62T-4Cc1X"
      },
      "execution_count": null,
      "outputs": []
    },
    {
      "cell_type": "code",
      "source": [
        "train_full = pd.concat([train,val])"
      ],
      "metadata": {
        "id": "0pyqJthrCY8t"
      },
      "execution_count": null,
      "outputs": []
    },
    {
      "cell_type": "code",
      "source": [
        "train_full_data = Pool(train_full[X],\n",
        "                       label=train_full[y],\n",
        "                       cat_features=cat_features)"
      ],
      "metadata": {
        "id": "XlmGi-QqCY8u"
      },
      "execution_count": null,
      "outputs": []
    },
    {
      "cell_type": "code",
      "source": [
        "model.fit(train_full_data)"
      ],
      "metadata": {
        "colab": {
          "base_uri": "https://localhost:8080/"
        },
        "outputId": "7d6ae411-66f2-48cc-ec88-8e0f2f0a3173",
        "id": "xgFdKlK3Cc1X"
      },
      "execution_count": null,
      "outputs": [
        {
          "output_type": "stream",
          "name": "stdout",
          "text": [
            "0:\ttotal: 27.6ms\tremaining: 18.9s\n",
            "100:\ttotal: 1.42s\tremaining: 8.21s\n",
            "200:\ttotal: 3.06s\tremaining: 7.38s\n",
            "300:\ttotal: 4.97s\tremaining: 6.36s\n",
            "400:\ttotal: 5.91s\tremaining: 4.2s\n",
            "500:\ttotal: 6.85s\tremaining: 2.53s\n",
            "600:\ttotal: 7.8s\tremaining: 1.1s\n",
            "685:\ttotal: 9.25s\tremaining: 0us\n"
          ]
        },
        {
          "output_type": "execute_result",
          "data": {
            "text/plain": [
              "<catboost.core.CatBoostClassifier at 0x7c3c520284f0>"
            ]
          },
          "metadata": {},
          "execution_count": 20
        }
      ]
    },
    {
      "cell_type": "code",
      "source": [
        "test['y_score_no_cross_val'] = model.predict_proba(test_data)[:,1]"
      ],
      "metadata": {
        "id": "_dGUxN6hC1t7"
      },
      "execution_count": null,
      "outputs": []
    },
    {
      "cell_type": "code",
      "source": [
        "from sklearn.metrics import roc_auc_score"
      ],
      "metadata": {
        "id": "2A93J9OTCzKR"
      },
      "execution_count": null,
      "outputs": []
    },
    {
      "cell_type": "code",
      "source": [
        "roc_auc_score(test['Exited'],test['y_score_no_cross_val'])"
      ],
      "metadata": {
        "colab": {
          "base_uri": "https://localhost:8080/"
        },
        "id": "CFK-2mAWDuuI",
        "outputId": "06a95f75-6872-47c5-d1ec-d05eb27dca8a"
      },
      "execution_count": null,
      "outputs": [
        {
          "output_type": "execute_result",
          "data": {
            "text/plain": [
              "0.8735839074822127"
            ]
          },
          "metadata": {},
          "execution_count": 23
        }
      ]
    },
    {
      "cell_type": "markdown",
      "source": [
        "# Кросс-валидация"
      ],
      "metadata": {
        "id": "l9Gbl5sLwt-1"
      }
    },
    {
      "cell_type": "markdown",
      "source": [
        "https://github.com/catboost/tutorials/blob/master/classification/classification_tutorial.ipynb"
      ],
      "metadata": {
        "id": "IxAIXNq5xqjU"
      }
    },
    {
      "cell_type": "code",
      "source": [
        "from catboost import cv"
      ],
      "metadata": {
        "id": "oG2uITTLs6yU"
      },
      "execution_count": null,
      "outputs": []
    },
    {
      "cell_type": "code",
      "source": [
        "params = {'verbose':100,\n",
        "          'eval_metric':'AUC',\n",
        "          'loss_function': 'Logloss',\n",
        "          'random_seed':42,\n",
        "          'learning_rate':0.01}"
      ],
      "metadata": {
        "id": "Ei7lX4FaFs21"
      },
      "execution_count": null,
      "outputs": []
    },
    {
      "cell_type": "code",
      "source": [
        "cv_data = cv(\n",
        "    params = params,\n",
        "    pool = train_full_data,\n",
        "    fold_count=5,\n",
        "    shuffle=True,\n",
        "    partition_random_seed=0,\n",
        "    stratified=False,\n",
        "    verbose=False\n",
        ")"
      ],
      "metadata": {
        "colab": {
          "base_uri": "https://localhost:8080/"
        },
        "id": "aCVREuG3tDXa",
        "outputId": "276ae29d-a0ea-4a3a-f1e1-2c3cab62c820"
      },
      "execution_count": null,
      "outputs": [
        {
          "output_type": "stream",
          "name": "stdout",
          "text": [
            "Training on fold [0/5]\n",
            "\n",
            "bestTest = 0.866360207\n",
            "bestIteration = 881\n",
            "\n",
            "Training on fold [1/5]\n",
            "\n",
            "bestTest = 0.8716621864\n",
            "bestIteration = 998\n",
            "\n",
            "Training on fold [2/5]\n",
            "\n",
            "bestTest = 0.8695412245\n",
            "bestIteration = 540\n",
            "\n",
            "Training on fold [3/5]\n",
            "\n",
            "bestTest = 0.8795945701\n",
            "bestIteration = 942\n",
            "\n",
            "Training on fold [4/5]\n",
            "\n",
            "bestTest = 0.8586794872\n",
            "bestIteration = 750\n",
            "\n"
          ]
        }
      ]
    },
    {
      "cell_type": "code",
      "source": [
        "cv_data"
      ],
      "metadata": {
        "colab": {
          "base_uri": "https://localhost:8080/",
          "height": 424
        },
        "id": "N98d1OO0GMw8",
        "outputId": "03a95fbd-94ee-4070-b19d-b48c64f3e141"
      },
      "execution_count": null,
      "outputs": [
        {
          "output_type": "execute_result",
          "data": {
            "text/plain": [
              "     iterations  test-AUC-mean  test-AUC-std  test-Logloss-mean  \\\n",
              "0             0       0.818479      0.009480           0.685020   \n",
              "1             1       0.823848      0.010334           0.677216   \n",
              "2             2       0.831819      0.009265           0.668989   \n",
              "3             3       0.834559      0.008771           0.662008   \n",
              "4             4       0.834483      0.008218           0.654599   \n",
              "..          ...            ...           ...                ...   \n",
              "995         995       0.868703      0.007809           0.329986   \n",
              "996         996       0.868715      0.007781           0.329972   \n",
              "997         997       0.868718      0.007804           0.329972   \n",
              "998         998       0.868725      0.007777           0.329969   \n",
              "999         999       0.868729      0.007779           0.329964   \n",
              "\n",
              "     test-Logloss-std  train-Logloss-mean  train-Logloss-std  \n",
              "0            0.000209            0.684939           0.000262  \n",
              "1            0.000374            0.677055           0.000503  \n",
              "2            0.000472            0.668799           0.000751  \n",
              "3            0.001326            0.661753           0.000689  \n",
              "4            0.001429            0.654270           0.000898  \n",
              "..                ...                 ...                ...  \n",
              "995          0.016873            0.284097           0.003644  \n",
              "996          0.016875            0.284057           0.003631  \n",
              "997          0.016876            0.284003           0.003636  \n",
              "998          0.016855            0.283943           0.003613  \n",
              "999          0.016869            0.283886           0.003601  \n",
              "\n",
              "[1000 rows x 7 columns]"
            ],
            "text/html": [
              "\n",
              "  <div id=\"df-c56663ca-1bb8-41d0-97a9-7537b96eea42\" class=\"colab-df-container\">\n",
              "    <div>\n",
              "<style scoped>\n",
              "    .dataframe tbody tr th:only-of-type {\n",
              "        vertical-align: middle;\n",
              "    }\n",
              "\n",
              "    .dataframe tbody tr th {\n",
              "        vertical-align: top;\n",
              "    }\n",
              "\n",
              "    .dataframe thead th {\n",
              "        text-align: right;\n",
              "    }\n",
              "</style>\n",
              "<table border=\"1\" class=\"dataframe\">\n",
              "  <thead>\n",
              "    <tr style=\"text-align: right;\">\n",
              "      <th></th>\n",
              "      <th>iterations</th>\n",
              "      <th>test-AUC-mean</th>\n",
              "      <th>test-AUC-std</th>\n",
              "      <th>test-Logloss-mean</th>\n",
              "      <th>test-Logloss-std</th>\n",
              "      <th>train-Logloss-mean</th>\n",
              "      <th>train-Logloss-std</th>\n",
              "    </tr>\n",
              "  </thead>\n",
              "  <tbody>\n",
              "    <tr>\n",
              "      <th>0</th>\n",
              "      <td>0</td>\n",
              "      <td>0.818479</td>\n",
              "      <td>0.009480</td>\n",
              "      <td>0.685020</td>\n",
              "      <td>0.000209</td>\n",
              "      <td>0.684939</td>\n",
              "      <td>0.000262</td>\n",
              "    </tr>\n",
              "    <tr>\n",
              "      <th>1</th>\n",
              "      <td>1</td>\n",
              "      <td>0.823848</td>\n",
              "      <td>0.010334</td>\n",
              "      <td>0.677216</td>\n",
              "      <td>0.000374</td>\n",
              "      <td>0.677055</td>\n",
              "      <td>0.000503</td>\n",
              "    </tr>\n",
              "    <tr>\n",
              "      <th>2</th>\n",
              "      <td>2</td>\n",
              "      <td>0.831819</td>\n",
              "      <td>0.009265</td>\n",
              "      <td>0.668989</td>\n",
              "      <td>0.000472</td>\n",
              "      <td>0.668799</td>\n",
              "      <td>0.000751</td>\n",
              "    </tr>\n",
              "    <tr>\n",
              "      <th>3</th>\n",
              "      <td>3</td>\n",
              "      <td>0.834559</td>\n",
              "      <td>0.008771</td>\n",
              "      <td>0.662008</td>\n",
              "      <td>0.001326</td>\n",
              "      <td>0.661753</td>\n",
              "      <td>0.000689</td>\n",
              "    </tr>\n",
              "    <tr>\n",
              "      <th>4</th>\n",
              "      <td>4</td>\n",
              "      <td>0.834483</td>\n",
              "      <td>0.008218</td>\n",
              "      <td>0.654599</td>\n",
              "      <td>0.001429</td>\n",
              "      <td>0.654270</td>\n",
              "      <td>0.000898</td>\n",
              "    </tr>\n",
              "    <tr>\n",
              "      <th>...</th>\n",
              "      <td>...</td>\n",
              "      <td>...</td>\n",
              "      <td>...</td>\n",
              "      <td>...</td>\n",
              "      <td>...</td>\n",
              "      <td>...</td>\n",
              "      <td>...</td>\n",
              "    </tr>\n",
              "    <tr>\n",
              "      <th>995</th>\n",
              "      <td>995</td>\n",
              "      <td>0.868703</td>\n",
              "      <td>0.007809</td>\n",
              "      <td>0.329986</td>\n",
              "      <td>0.016873</td>\n",
              "      <td>0.284097</td>\n",
              "      <td>0.003644</td>\n",
              "    </tr>\n",
              "    <tr>\n",
              "      <th>996</th>\n",
              "      <td>996</td>\n",
              "      <td>0.868715</td>\n",
              "      <td>0.007781</td>\n",
              "      <td>0.329972</td>\n",
              "      <td>0.016875</td>\n",
              "      <td>0.284057</td>\n",
              "      <td>0.003631</td>\n",
              "    </tr>\n",
              "    <tr>\n",
              "      <th>997</th>\n",
              "      <td>997</td>\n",
              "      <td>0.868718</td>\n",
              "      <td>0.007804</td>\n",
              "      <td>0.329972</td>\n",
              "      <td>0.016876</td>\n",
              "      <td>0.284003</td>\n",
              "      <td>0.003636</td>\n",
              "    </tr>\n",
              "    <tr>\n",
              "      <th>998</th>\n",
              "      <td>998</td>\n",
              "      <td>0.868725</td>\n",
              "      <td>0.007777</td>\n",
              "      <td>0.329969</td>\n",
              "      <td>0.016855</td>\n",
              "      <td>0.283943</td>\n",
              "      <td>0.003613</td>\n",
              "    </tr>\n",
              "    <tr>\n",
              "      <th>999</th>\n",
              "      <td>999</td>\n",
              "      <td>0.868729</td>\n",
              "      <td>0.007779</td>\n",
              "      <td>0.329964</td>\n",
              "      <td>0.016869</td>\n",
              "      <td>0.283886</td>\n",
              "      <td>0.003601</td>\n",
              "    </tr>\n",
              "  </tbody>\n",
              "</table>\n",
              "<p>1000 rows × 7 columns</p>\n",
              "</div>\n",
              "    <div class=\"colab-df-buttons\">\n",
              "\n",
              "  <div class=\"colab-df-container\">\n",
              "    <button class=\"colab-df-convert\" onclick=\"convertToInteractive('df-c56663ca-1bb8-41d0-97a9-7537b96eea42')\"\n",
              "            title=\"Convert this dataframe to an interactive table.\"\n",
              "            style=\"display:none;\">\n",
              "\n",
              "  <svg xmlns=\"http://www.w3.org/2000/svg\" height=\"24px\" viewBox=\"0 -960 960 960\">\n",
              "    <path d=\"M120-120v-720h720v720H120Zm60-500h600v-160H180v160Zm220 220h160v-160H400v160Zm0 220h160v-160H400v160ZM180-400h160v-160H180v160Zm440 0h160v-160H620v160ZM180-180h160v-160H180v160Zm440 0h160v-160H620v160Z\"/>\n",
              "  </svg>\n",
              "    </button>\n",
              "\n",
              "  <style>\n",
              "    .colab-df-container {\n",
              "      display:flex;\n",
              "      gap: 12px;\n",
              "    }\n",
              "\n",
              "    .colab-df-convert {\n",
              "      background-color: #E8F0FE;\n",
              "      border: none;\n",
              "      border-radius: 50%;\n",
              "      cursor: pointer;\n",
              "      display: none;\n",
              "      fill: #1967D2;\n",
              "      height: 32px;\n",
              "      padding: 0 0 0 0;\n",
              "      width: 32px;\n",
              "    }\n",
              "\n",
              "    .colab-df-convert:hover {\n",
              "      background-color: #E2EBFA;\n",
              "      box-shadow: 0px 1px 2px rgba(60, 64, 67, 0.3), 0px 1px 3px 1px rgba(60, 64, 67, 0.15);\n",
              "      fill: #174EA6;\n",
              "    }\n",
              "\n",
              "    .colab-df-buttons div {\n",
              "      margin-bottom: 4px;\n",
              "    }\n",
              "\n",
              "    [theme=dark] .colab-df-convert {\n",
              "      background-color: #3B4455;\n",
              "      fill: #D2E3FC;\n",
              "    }\n",
              "\n",
              "    [theme=dark] .colab-df-convert:hover {\n",
              "      background-color: #434B5C;\n",
              "      box-shadow: 0px 1px 3px 1px rgba(0, 0, 0, 0.15);\n",
              "      filter: drop-shadow(0px 1px 2px rgba(0, 0, 0, 0.3));\n",
              "      fill: #FFFFFF;\n",
              "    }\n",
              "  </style>\n",
              "\n",
              "    <script>\n",
              "      const buttonEl =\n",
              "        document.querySelector('#df-c56663ca-1bb8-41d0-97a9-7537b96eea42 button.colab-df-convert');\n",
              "      buttonEl.style.display =\n",
              "        google.colab.kernel.accessAllowed ? 'block' : 'none';\n",
              "\n",
              "      async function convertToInteractive(key) {\n",
              "        const element = document.querySelector('#df-c56663ca-1bb8-41d0-97a9-7537b96eea42');\n",
              "        const dataTable =\n",
              "          await google.colab.kernel.invokeFunction('convertToInteractive',\n",
              "                                                    [key], {});\n",
              "        if (!dataTable) return;\n",
              "\n",
              "        const docLinkHtml = 'Like what you see? Visit the ' +\n",
              "          '<a target=\"_blank\" href=https://colab.research.google.com/notebooks/data_table.ipynb>data table notebook</a>'\n",
              "          + ' to learn more about interactive tables.';\n",
              "        element.innerHTML = '';\n",
              "        dataTable['output_type'] = 'display_data';\n",
              "        await google.colab.output.renderOutput(dataTable, element);\n",
              "        const docLink = document.createElement('div');\n",
              "        docLink.innerHTML = docLinkHtml;\n",
              "        element.appendChild(docLink);\n",
              "      }\n",
              "    </script>\n",
              "  </div>\n",
              "\n",
              "\n",
              "<div id=\"df-3a2948ca-83d4-4e99-ac74-862116e3b1a1\">\n",
              "  <button class=\"colab-df-quickchart\" onclick=\"quickchart('df-3a2948ca-83d4-4e99-ac74-862116e3b1a1')\"\n",
              "            title=\"Suggest charts\"\n",
              "            style=\"display:none;\">\n",
              "\n",
              "<svg xmlns=\"http://www.w3.org/2000/svg\" height=\"24px\"viewBox=\"0 0 24 24\"\n",
              "     width=\"24px\">\n",
              "    <g>\n",
              "        <path d=\"M19 3H5c-1.1 0-2 .9-2 2v14c0 1.1.9 2 2 2h14c1.1 0 2-.9 2-2V5c0-1.1-.9-2-2-2zM9 17H7v-7h2v7zm4 0h-2V7h2v10zm4 0h-2v-4h2v4z\"/>\n",
              "    </g>\n",
              "</svg>\n",
              "  </button>\n",
              "\n",
              "<style>\n",
              "  .colab-df-quickchart {\n",
              "      --bg-color: #E8F0FE;\n",
              "      --fill-color: #1967D2;\n",
              "      --hover-bg-color: #E2EBFA;\n",
              "      --hover-fill-color: #174EA6;\n",
              "      --disabled-fill-color: #AAA;\n",
              "      --disabled-bg-color: #DDD;\n",
              "  }\n",
              "\n",
              "  [theme=dark] .colab-df-quickchart {\n",
              "      --bg-color: #3B4455;\n",
              "      --fill-color: #D2E3FC;\n",
              "      --hover-bg-color: #434B5C;\n",
              "      --hover-fill-color: #FFFFFF;\n",
              "      --disabled-bg-color: #3B4455;\n",
              "      --disabled-fill-color: #666;\n",
              "  }\n",
              "\n",
              "  .colab-df-quickchart {\n",
              "    background-color: var(--bg-color);\n",
              "    border: none;\n",
              "    border-radius: 50%;\n",
              "    cursor: pointer;\n",
              "    display: none;\n",
              "    fill: var(--fill-color);\n",
              "    height: 32px;\n",
              "    padding: 0;\n",
              "    width: 32px;\n",
              "  }\n",
              "\n",
              "  .colab-df-quickchart:hover {\n",
              "    background-color: var(--hover-bg-color);\n",
              "    box-shadow: 0 1px 2px rgba(60, 64, 67, 0.3), 0 1px 3px 1px rgba(60, 64, 67, 0.15);\n",
              "    fill: var(--button-hover-fill-color);\n",
              "  }\n",
              "\n",
              "  .colab-df-quickchart-complete:disabled,\n",
              "  .colab-df-quickchart-complete:disabled:hover {\n",
              "    background-color: var(--disabled-bg-color);\n",
              "    fill: var(--disabled-fill-color);\n",
              "    box-shadow: none;\n",
              "  }\n",
              "\n",
              "  .colab-df-spinner {\n",
              "    border: 2px solid var(--fill-color);\n",
              "    border-color: transparent;\n",
              "    border-bottom-color: var(--fill-color);\n",
              "    animation:\n",
              "      spin 1s steps(1) infinite;\n",
              "  }\n",
              "\n",
              "  @keyframes spin {\n",
              "    0% {\n",
              "      border-color: transparent;\n",
              "      border-bottom-color: var(--fill-color);\n",
              "      border-left-color: var(--fill-color);\n",
              "    }\n",
              "    20% {\n",
              "      border-color: transparent;\n",
              "      border-left-color: var(--fill-color);\n",
              "      border-top-color: var(--fill-color);\n",
              "    }\n",
              "    30% {\n",
              "      border-color: transparent;\n",
              "      border-left-color: var(--fill-color);\n",
              "      border-top-color: var(--fill-color);\n",
              "      border-right-color: var(--fill-color);\n",
              "    }\n",
              "    40% {\n",
              "      border-color: transparent;\n",
              "      border-right-color: var(--fill-color);\n",
              "      border-top-color: var(--fill-color);\n",
              "    }\n",
              "    60% {\n",
              "      border-color: transparent;\n",
              "      border-right-color: var(--fill-color);\n",
              "    }\n",
              "    80% {\n",
              "      border-color: transparent;\n",
              "      border-right-color: var(--fill-color);\n",
              "      border-bottom-color: var(--fill-color);\n",
              "    }\n",
              "    90% {\n",
              "      border-color: transparent;\n",
              "      border-bottom-color: var(--fill-color);\n",
              "    }\n",
              "  }\n",
              "</style>\n",
              "\n",
              "  <script>\n",
              "    async function quickchart(key) {\n",
              "      const quickchartButtonEl =\n",
              "        document.querySelector('#' + key + ' button');\n",
              "      quickchartButtonEl.disabled = true;  // To prevent multiple clicks.\n",
              "      quickchartButtonEl.classList.add('colab-df-spinner');\n",
              "      try {\n",
              "        const charts = await google.colab.kernel.invokeFunction(\n",
              "            'suggestCharts', [key], {});\n",
              "      } catch (error) {\n",
              "        console.error('Error during call to suggestCharts:', error);\n",
              "      }\n",
              "      quickchartButtonEl.classList.remove('colab-df-spinner');\n",
              "      quickchartButtonEl.classList.add('colab-df-quickchart-complete');\n",
              "    }\n",
              "    (() => {\n",
              "      let quickchartButtonEl =\n",
              "        document.querySelector('#df-3a2948ca-83d4-4e99-ac74-862116e3b1a1 button');\n",
              "      quickchartButtonEl.style.display =\n",
              "        google.colab.kernel.accessAllowed ? 'block' : 'none';\n",
              "    })();\n",
              "  </script>\n",
              "</div>\n",
              "    </div>\n",
              "  </div>\n"
            ],
            "application/vnd.google.colaboratory.intrinsic+json": {
              "type": "dataframe",
              "variable_name": "cv_data",
              "summary": "{\n  \"name\": \"cv_data\",\n  \"rows\": 1000,\n  \"fields\": [\n    {\n      \"column\": \"iterations\",\n      \"properties\": {\n        \"dtype\": \"number\",\n        \"std\": 288,\n        \"min\": 0,\n        \"max\": 999,\n        \"num_unique_values\": 1000,\n        \"samples\": [\n          521,\n          737,\n          740\n        ],\n        \"semantic_type\": \"\",\n        \"description\": \"\"\n      }\n    },\n    {\n      \"column\": \"test-AUC-mean\",\n      \"properties\": {\n        \"dtype\": \"number\",\n        \"std\": 0.006904263100456901,\n        \"min\": 0.8184786310664103,\n        \"max\": 0.8688218559102292,\n        \"num_unique_values\": 1000,\n        \"samples\": [\n          0.8680927825769988,\n          0.8688112541821823,\n          0.8688126614129128\n        ],\n        \"semantic_type\": \"\",\n        \"description\": \"\"\n      }\n    },\n    {\n      \"column\": \"test-AUC-std\",\n      \"properties\": {\n        \"dtype\": \"number\",\n        \"std\": 0.0011897369344733952,\n        \"min\": 0.007375525964690294,\n        \"max\": 0.013514308884443731,\n        \"num_unique_values\": 1000,\n        \"samples\": [\n          0.007516326435238886,\n          0.0074930152338874055,\n          0.007464845459462979\n        ],\n        \"semantic_type\": \"\",\n        \"description\": \"\"\n      }\n    },\n    {\n      \"column\": \"test-Logloss-mean\",\n      \"properties\": {\n        \"dtype\": \"number\",\n        \"std\": 0.052911874835349676,\n        \"min\": 0.3299586010492434,\n        \"max\": 0.685020265064378,\n        \"num_unique_values\": 1000,\n        \"samples\": [\n          0.33328508411045626,\n          0.3308363035316654,\n          0.3308304637022058\n        ],\n        \"semantic_type\": \"\",\n        \"description\": \"\"\n      }\n    },\n    {\n      \"column\": \"test-Logloss-std\",\n      \"properties\": {\n        \"dtype\": \"number\",\n        \"std\": 0.002995970950883947,\n        \"min\": 0.00020903846271185731,\n        \"max\": 0.017228780619837628,\n        \"num_unique_values\": 1000,\n        \"samples\": [\n          0.01711120818799487,\n          0.017021320199666578,\n          0.017010510557396066\n        ],\n        \"semantic_type\": \"\",\n        \"description\": \"\"\n      }\n    },\n    {\n      \"column\": \"train-Logloss-mean\",\n      \"properties\": {\n        \"dtype\": \"number\",\n        \"std\": 0.06154579430042876,\n        \"min\": 0.28388620451286295,\n        \"max\": 0.6849392440471956,\n        \"num_unique_values\": 1000,\n        \"samples\": [\n          0.30952725598987674,\n          0.2975998677545974,\n          0.29747941374997316\n        ],\n        \"semantic_type\": \"\",\n        \"description\": \"\"\n      }\n    },\n    {\n      \"column\": \"train-Logloss-std\",\n      \"properties\": {\n        \"dtype\": \"number\",\n        \"std\": 0.0006636564826997695,\n        \"min\": 0.0002616976770828111,\n        \"max\": 0.005076557340507927,\n        \"num_unique_values\": 1000,\n        \"samples\": [\n          0.004616919708040409,\n          0.004361464970723275,\n          0.004309654788703347\n        ],\n        \"semantic_type\": \"\",\n        \"description\": \"\"\n      }\n    }\n  ]\n}"
            }
          },
          "metadata": {},
          "execution_count": 27
        }
      ]
    },
    {
      "cell_type": "code",
      "source": [
        "cv_data[cv_data['test-AUC-mean'] == cv_data['test-AUC-mean'].max()]"
      ],
      "metadata": {
        "colab": {
          "base_uri": "https://localhost:8080/",
          "height": 81
        },
        "id": "3sm8LYfftaE4",
        "outputId": "de58de78-fd6e-4863-f678-d3e6c87b16a4"
      },
      "execution_count": null,
      "outputs": [
        {
          "output_type": "execute_result",
          "data": {
            "text/plain": [
              "     iterations  test-AUC-mean  test-AUC-std  test-Logloss-mean  \\\n",
              "741         741       0.868822      0.007457           0.330818   \n",
              "\n",
              "     test-Logloss-std  train-Logloss-mean  train-Logloss-std  \n",
              "741          0.017005            0.297428           0.004326  "
            ],
            "text/html": [
              "\n",
              "  <div id=\"df-a68e3794-03a6-4958-8920-9a4f1853e461\" class=\"colab-df-container\">\n",
              "    <div>\n",
              "<style scoped>\n",
              "    .dataframe tbody tr th:only-of-type {\n",
              "        vertical-align: middle;\n",
              "    }\n",
              "\n",
              "    .dataframe tbody tr th {\n",
              "        vertical-align: top;\n",
              "    }\n",
              "\n",
              "    .dataframe thead th {\n",
              "        text-align: right;\n",
              "    }\n",
              "</style>\n",
              "<table border=\"1\" class=\"dataframe\">\n",
              "  <thead>\n",
              "    <tr style=\"text-align: right;\">\n",
              "      <th></th>\n",
              "      <th>iterations</th>\n",
              "      <th>test-AUC-mean</th>\n",
              "      <th>test-AUC-std</th>\n",
              "      <th>test-Logloss-mean</th>\n",
              "      <th>test-Logloss-std</th>\n",
              "      <th>train-Logloss-mean</th>\n",
              "      <th>train-Logloss-std</th>\n",
              "    </tr>\n",
              "  </thead>\n",
              "  <tbody>\n",
              "    <tr>\n",
              "      <th>741</th>\n",
              "      <td>741</td>\n",
              "      <td>0.868822</td>\n",
              "      <td>0.007457</td>\n",
              "      <td>0.330818</td>\n",
              "      <td>0.017005</td>\n",
              "      <td>0.297428</td>\n",
              "      <td>0.004326</td>\n",
              "    </tr>\n",
              "  </tbody>\n",
              "</table>\n",
              "</div>\n",
              "    <div class=\"colab-df-buttons\">\n",
              "\n",
              "  <div class=\"colab-df-container\">\n",
              "    <button class=\"colab-df-convert\" onclick=\"convertToInteractive('df-a68e3794-03a6-4958-8920-9a4f1853e461')\"\n",
              "            title=\"Convert this dataframe to an interactive table.\"\n",
              "            style=\"display:none;\">\n",
              "\n",
              "  <svg xmlns=\"http://www.w3.org/2000/svg\" height=\"24px\" viewBox=\"0 -960 960 960\">\n",
              "    <path d=\"M120-120v-720h720v720H120Zm60-500h600v-160H180v160Zm220 220h160v-160H400v160Zm0 220h160v-160H400v160ZM180-400h160v-160H180v160Zm440 0h160v-160H620v160ZM180-180h160v-160H180v160Zm440 0h160v-160H620v160Z\"/>\n",
              "  </svg>\n",
              "    </button>\n",
              "\n",
              "  <style>\n",
              "    .colab-df-container {\n",
              "      display:flex;\n",
              "      gap: 12px;\n",
              "    }\n",
              "\n",
              "    .colab-df-convert {\n",
              "      background-color: #E8F0FE;\n",
              "      border: none;\n",
              "      border-radius: 50%;\n",
              "      cursor: pointer;\n",
              "      display: none;\n",
              "      fill: #1967D2;\n",
              "      height: 32px;\n",
              "      padding: 0 0 0 0;\n",
              "      width: 32px;\n",
              "    }\n",
              "\n",
              "    .colab-df-convert:hover {\n",
              "      background-color: #E2EBFA;\n",
              "      box-shadow: 0px 1px 2px rgba(60, 64, 67, 0.3), 0px 1px 3px 1px rgba(60, 64, 67, 0.15);\n",
              "      fill: #174EA6;\n",
              "    }\n",
              "\n",
              "    .colab-df-buttons div {\n",
              "      margin-bottom: 4px;\n",
              "    }\n",
              "\n",
              "    [theme=dark] .colab-df-convert {\n",
              "      background-color: #3B4455;\n",
              "      fill: #D2E3FC;\n",
              "    }\n",
              "\n",
              "    [theme=dark] .colab-df-convert:hover {\n",
              "      background-color: #434B5C;\n",
              "      box-shadow: 0px 1px 3px 1px rgba(0, 0, 0, 0.15);\n",
              "      filter: drop-shadow(0px 1px 2px rgba(0, 0, 0, 0.3));\n",
              "      fill: #FFFFFF;\n",
              "    }\n",
              "  </style>\n",
              "\n",
              "    <script>\n",
              "      const buttonEl =\n",
              "        document.querySelector('#df-a68e3794-03a6-4958-8920-9a4f1853e461 button.colab-df-convert');\n",
              "      buttonEl.style.display =\n",
              "        google.colab.kernel.accessAllowed ? 'block' : 'none';\n",
              "\n",
              "      async function convertToInteractive(key) {\n",
              "        const element = document.querySelector('#df-a68e3794-03a6-4958-8920-9a4f1853e461');\n",
              "        const dataTable =\n",
              "          await google.colab.kernel.invokeFunction('convertToInteractive',\n",
              "                                                    [key], {});\n",
              "        if (!dataTable) return;\n",
              "\n",
              "        const docLinkHtml = 'Like what you see? Visit the ' +\n",
              "          '<a target=\"_blank\" href=https://colab.research.google.com/notebooks/data_table.ipynb>data table notebook</a>'\n",
              "          + ' to learn more about interactive tables.';\n",
              "        element.innerHTML = '';\n",
              "        dataTable['output_type'] = 'display_data';\n",
              "        await google.colab.output.renderOutput(dataTable, element);\n",
              "        const docLink = document.createElement('div');\n",
              "        docLink.innerHTML = docLinkHtml;\n",
              "        element.appendChild(docLink);\n",
              "      }\n",
              "    </script>\n",
              "  </div>\n",
              "\n",
              "    </div>\n",
              "  </div>\n"
            ],
            "application/vnd.google.colaboratory.intrinsic+json": {
              "type": "dataframe",
              "summary": "{\n  \"name\": \"cv_data[cv_data['test-AUC-mean'] == cv_data['test-AUC-mean']\",\n  \"rows\": 1,\n  \"fields\": [\n    {\n      \"column\": \"iterations\",\n      \"properties\": {\n        \"dtype\": \"number\",\n        \"std\": null,\n        \"min\": 741,\n        \"max\": 741,\n        \"num_unique_values\": 1,\n        \"samples\": [\n          741\n        ],\n        \"semantic_type\": \"\",\n        \"description\": \"\"\n      }\n    },\n    {\n      \"column\": \"test-AUC-mean\",\n      \"properties\": {\n        \"dtype\": \"number\",\n        \"std\": null,\n        \"min\": 0.8688218559102292,\n        \"max\": 0.8688218559102292,\n        \"num_unique_values\": 1,\n        \"samples\": [\n          0.8688218559102292\n        ],\n        \"semantic_type\": \"\",\n        \"description\": \"\"\n      }\n    },\n    {\n      \"column\": \"test-AUC-std\",\n      \"properties\": {\n        \"dtype\": \"number\",\n        \"std\": null,\n        \"min\": 0.007456967581853894,\n        \"max\": 0.007456967581853894,\n        \"num_unique_values\": 1,\n        \"samples\": [\n          0.007456967581853894\n        ],\n        \"semantic_type\": \"\",\n        \"description\": \"\"\n      }\n    },\n    {\n      \"column\": \"test-Logloss-mean\",\n      \"properties\": {\n        \"dtype\": \"number\",\n        \"std\": null,\n        \"min\": 0.3308176292307154,\n        \"max\": 0.3308176292307154,\n        \"num_unique_values\": 1,\n        \"samples\": [\n          0.3308176292307154\n        ],\n        \"semantic_type\": \"\",\n        \"description\": \"\"\n      }\n    },\n    {\n      \"column\": \"test-Logloss-std\",\n      \"properties\": {\n        \"dtype\": \"number\",\n        \"std\": null,\n        \"min\": 0.017005477393161997,\n        \"max\": 0.017005477393161997,\n        \"num_unique_values\": 1,\n        \"samples\": [\n          0.017005477393161997\n        ],\n        \"semantic_type\": \"\",\n        \"description\": \"\"\n      }\n    },\n    {\n      \"column\": \"train-Logloss-mean\",\n      \"properties\": {\n        \"dtype\": \"number\",\n        \"std\": null,\n        \"min\": 0.29742776058348797,\n        \"max\": 0.29742776058348797,\n        \"num_unique_values\": 1,\n        \"samples\": [\n          0.29742776058348797\n        ],\n        \"semantic_type\": \"\",\n        \"description\": \"\"\n      }\n    },\n    {\n      \"column\": \"train-Logloss-std\",\n      \"properties\": {\n        \"dtype\": \"number\",\n        \"std\": null,\n        \"min\": 0.0043263275223987385,\n        \"max\": 0.0043263275223987385,\n        \"num_unique_values\": 1,\n        \"samples\": [\n          0.0043263275223987385\n        ],\n        \"semantic_type\": \"\",\n        \"description\": \"\"\n      }\n    }\n  ]\n}"
            }
          },
          "metadata": {},
          "execution_count": 28
        }
      ]
    },
    {
      "cell_type": "code",
      "source": [
        "n_iters = cv_data[cv_data['test-AUC-mean'] == cv_data['test-AUC-mean'].max()]['iterations'].values[0]"
      ],
      "metadata": {
        "id": "YHSw_Q5IEYnY"
      },
      "execution_count": null,
      "outputs": []
    },
    {
      "cell_type": "code",
      "source": [
        "n_iters"
      ],
      "metadata": {
        "colab": {
          "base_uri": "https://localhost:8080/"
        },
        "id": "2CTskn2NGcgW",
        "outputId": "4f761dab-9248-416d-8dcf-3aac713f2558"
      },
      "execution_count": null,
      "outputs": [
        {
          "output_type": "execute_result",
          "data": {
            "text/plain": [
              "741"
            ]
          },
          "metadata": {},
          "execution_count": 30
        }
      ]
    },
    {
      "cell_type": "code",
      "source": [
        "params = {'iterations':n_iters,\n",
        "          'verbose':100,\n",
        "          'eval_metric':'AUC',\n",
        "          'loss_function': 'Logloss',\n",
        "          'random_seed':42,\n",
        "          'learning_rate':0.01}"
      ],
      "metadata": {
        "id": "f1r0nCzlunU0"
      },
      "execution_count": null,
      "outputs": []
    },
    {
      "cell_type": "code",
      "source": [
        "model = CatBoostClassifier(**params)"
      ],
      "metadata": {
        "id": "cvN_gv6ounU0"
      },
      "execution_count": null,
      "outputs": []
    },
    {
      "cell_type": "code",
      "source": [
        "model.fit(train_full_data)"
      ],
      "metadata": {
        "colab": {
          "base_uri": "https://localhost:8080/"
        },
        "outputId": "95963fa9-c4fb-4f6f-f6b3-1f3b377f8f61",
        "id": "ZCqZBDWrunU0"
      },
      "execution_count": null,
      "outputs": [
        {
          "output_type": "stream",
          "name": "stdout",
          "text": [
            "0:\ttotal: 10.3ms\tremaining: 7.63s\n",
            "100:\ttotal: 1.15s\tremaining: 7.28s\n",
            "200:\ttotal: 2.98s\tremaining: 8.01s\n",
            "300:\ttotal: 4.13s\tremaining: 6.04s\n",
            "400:\ttotal: 5.1s\tremaining: 4.32s\n",
            "500:\ttotal: 6.06s\tremaining: 2.9s\n",
            "600:\ttotal: 6.99s\tremaining: 1.63s\n",
            "700:\ttotal: 7.93s\tremaining: 452ms\n",
            "740:\ttotal: 8.3s\tremaining: 0us\n"
          ]
        },
        {
          "output_type": "execute_result",
          "data": {
            "text/plain": [
              "<catboost.core.CatBoostClassifier at 0x7c3c5202b700>"
            ]
          },
          "metadata": {},
          "execution_count": 33
        }
      ]
    },
    {
      "cell_type": "code",
      "source": [
        "test['y_score_cross_val'] = model.predict_proba(test_data)[:,1]"
      ],
      "metadata": {
        "id": "BLzeeu6nvtjY"
      },
      "execution_count": null,
      "outputs": []
    },
    {
      "cell_type": "code",
      "source": [
        "from sklearn.metrics import roc_auc_score"
      ],
      "metadata": {
        "id": "OQhhEEePwJ4B"
      },
      "execution_count": null,
      "outputs": []
    },
    {
      "cell_type": "code",
      "source": [
        "roc_auc_score(test['Exited'],test['y_score_cross_val'])"
      ],
      "metadata": {
        "colab": {
          "base_uri": "https://localhost:8080/"
        },
        "id": "bAXLqtpawVSg",
        "outputId": "c397264b-f593-4213-cdb0-36bfb2300f29"
      },
      "execution_count": null,
      "outputs": [
        {
          "output_type": "execute_result",
          "data": {
            "text/plain": [
              "0.8737196364315009"
            ]
          },
          "metadata": {},
          "execution_count": 36
        }
      ]
    },
    {
      "cell_type": "code",
      "source": [
        "len(train_full)"
      ],
      "metadata": {
        "colab": {
          "base_uri": "https://localhost:8080/"
        },
        "id": "vWtBdGp4G4SA",
        "outputId": "09df2a0c-e3de-4647-8830-61239db22067"
      },
      "execution_count": null,
      "outputs": [
        {
          "output_type": "execute_result",
          "data": {
            "text/plain": [
              "8000"
            ]
          },
          "metadata": {},
          "execution_count": 37
        }
      ]
    },
    {
      "cell_type": "markdown",
      "source": [
        "# Подбор гиперпараметров"
      ],
      "metadata": {
        "id": "nt9rHMK_wYkZ"
      }
    },
    {
      "cell_type": "markdown",
      "source": [
        "https://github.com/catboost/catboost/blob/master/catboost/tutorials/events/2020_06_04_catboost_tutorial/catboost_features.ipynb"
      ],
      "metadata": {
        "id": "Ove19vFbxnsz"
      }
    },
    {
      "cell_type": "markdown",
      "source": [
        "https://youtu.be/ZaP5qFSIcIw?t=2043"
      ],
      "metadata": {
        "id": "J4_QwymK585P"
      }
    },
    {
      "cell_type": "markdown",
      "source": [
        "https://github.com/catboost/catboost/blob/master/catboost/tutorials/hyperparameters_tuning/hyperparameters_tuning.ipynb"
      ],
      "metadata": {
        "id": "MJ360tP6AF5b"
      }
    },
    {
      "cell_type": "code",
      "source": [
        "model.get_all_params()"
      ],
      "metadata": {
        "colab": {
          "base_uri": "https://localhost:8080/"
        },
        "id": "H3fW3LdY9l6T",
        "outputId": "a4e53a96-0cb7-4752-83e4-de784c9c8c90"
      },
      "execution_count": null,
      "outputs": [
        {
          "output_type": "execute_result",
          "data": {
            "text/plain": [
              "{'nan_mode': 'Min',\n",
              " 'eval_metric': 'AUC',\n",
              " 'combinations_ctr': ['Borders:CtrBorderCount=15:CtrBorderType=Uniform:TargetBorderCount=1:TargetBorderType=MinEntropy:Prior=0/1:Prior=0.5/1:Prior=1/1',\n",
              "  'Counter:CtrBorderCount=15:CtrBorderType=Uniform:Prior=0/1'],\n",
              " 'iterations': 1000,\n",
              " 'sampling_frequency': 'PerTree',\n",
              " 'fold_permutation_block': 0,\n",
              " 'leaf_estimation_method': 'Newton',\n",
              " 'random_score_type': 'NormalWithModelSizeDecrease',\n",
              " 'counter_calc_method': 'SkipTest',\n",
              " 'grow_policy': 'SymmetricTree',\n",
              " 'penalties_coefficient': 1,\n",
              " 'boosting_type': 'Plain',\n",
              " 'model_shrink_mode': 'Constant',\n",
              " 'feature_border_type': 'GreedyLogSum',\n",
              " 'ctr_leaf_count_limit': 18446744073709551615,\n",
              " 'bayesian_matrix_reg': 0.10000000149011612,\n",
              " 'one_hot_max_size': 2,\n",
              " 'eval_fraction': 0,\n",
              " 'force_unit_auto_pair_weights': False,\n",
              " 'l2_leaf_reg': 3,\n",
              " 'random_strength': 1,\n",
              " 'rsm': 1,\n",
              " 'boost_from_average': False,\n",
              " 'max_ctr_complexity': 4,\n",
              " 'model_size_reg': 0.5,\n",
              " 'simple_ctr': ['Borders:CtrBorderCount=15:CtrBorderType=Uniform:TargetBorderCount=1:TargetBorderType=MinEntropy:Prior=0/1:Prior=0.5/1:Prior=1/1',\n",
              "  'Counter:CtrBorderCount=15:CtrBorderType=Uniform:Prior=0/1'],\n",
              " 'pool_metainfo_options': {'tags': {}},\n",
              " 'subsample': 0.800000011920929,\n",
              " 'use_best_model': False,\n",
              " 'class_names': [0, 1],\n",
              " 'random_seed': 42,\n",
              " 'depth': 5,\n",
              " 'ctr_target_border_count': 1,\n",
              " 'posterior_sampling': False,\n",
              " 'has_time': False,\n",
              " 'store_all_simple_ctr': False,\n",
              " 'border_count': 254,\n",
              " 'classes_count': 0,\n",
              " 'auto_class_weights': 'None',\n",
              " 'sparse_features_conflict_fraction': 0,\n",
              " 'leaf_estimation_backtracking': 'AnyImprovement',\n",
              " 'best_model_min_trees': 1,\n",
              " 'model_shrink_rate': 0,\n",
              " 'min_data_in_leaf': 1,\n",
              " 'loss_function': 'Logloss',\n",
              " 'learning_rate': 0.10000000149011612,\n",
              " 'score_function': 'Cosine',\n",
              " 'task_type': 'CPU',\n",
              " 'leaf_estimation_iterations': 10,\n",
              " 'bootstrap_type': 'MVS',\n",
              " 'max_leaves': 32,\n",
              " 'permutation_count': 4}"
            ]
          },
          "metadata": {},
          "execution_count": 47
        }
      ]
    },
    {
      "cell_type": "code",
      "source": [
        "params = {'verbose':100,\n",
        "          'eval_metric':'AUC',\n",
        "          'loss_function': 'Logloss',\n",
        "          'random_seed':42}"
      ],
      "metadata": {
        "id": "6cVDBqd3xWMx"
      },
      "execution_count": null,
      "outputs": []
    },
    {
      "cell_type": "code",
      "source": [
        "model = CatBoostClassifier(**params)"
      ],
      "metadata": {
        "id": "jv9mug-TxWMx"
      },
      "execution_count": null,
      "outputs": []
    },
    {
      "cell_type": "code",
      "source": [
        "grid = {'learning_rate': [0.01, 0.1],\n",
        "        'depth': [5, 6]}"
      ],
      "metadata": {
        "id": "kLDIQCCW44YL"
      },
      "execution_count": null,
      "outputs": []
    },
    {
      "cell_type": "code",
      "source": [
        "train_full_data"
      ],
      "metadata": {
        "colab": {
          "base_uri": "https://localhost:8080/"
        },
        "id": "pL2KAc3OmeSq",
        "outputId": "b721b910-9af5-4789-c53e-1c5a9f91f343"
      },
      "execution_count": null,
      "outputs": [
        {
          "output_type": "execute_result",
          "data": {
            "text/plain": [
              "<catboost.core.Pool at 0x7c3c520a7fa0>"
            ]
          },
          "metadata": {},
          "execution_count": 52
        }
      ]
    },
    {
      "cell_type": "code",
      "source": [
        "result = model.grid_search(grid, train_full_data, verbose=False)"
      ],
      "metadata": {
        "colab": {
          "base_uri": "https://localhost:8080/"
        },
        "id": "Q1_7wX0hxY77",
        "outputId": "40a224da-8812-4cba-d5cd-ad3a91f575e3"
      },
      "execution_count": null,
      "outputs": [
        {
          "output_type": "stream",
          "name": "stdout",
          "text": [
            "0:\ttest: 0.7811641\tbest: 0.7811641 (0)\ttotal: 17.2ms\tremaining: 17.2s\n",
            "100:\ttest: 0.8435462\tbest: 0.8435769 (99)\ttotal: 1.23s\tremaining: 11s\n",
            "200:\ttest: 0.8508923\tbest: 0.8508923 (200)\ttotal: 2.57s\tremaining: 10.2s\n",
            "300:\ttest: 0.8547897\tbest: 0.8547897 (300)\ttotal: 3.61s\tremaining: 8.38s\n",
            "400:\ttest: 0.8569385\tbest: 0.8569385 (400)\ttotal: 4.42s\tremaining: 6.61s\n",
            "500:\ttest: 0.8576410\tbest: 0.8576410 (500)\ttotal: 5.25s\tremaining: 5.23s\n",
            "600:\ttest: 0.8585538\tbest: 0.8585538 (600)\ttotal: 6.11s\tremaining: 4.05s\n",
            "700:\ttest: 0.8590923\tbest: 0.8591487 (694)\ttotal: 6.93s\tremaining: 2.96s\n",
            "800:\ttest: 0.8593590\tbest: 0.8595564 (749)\ttotal: 7.76s\tremaining: 1.93s\n",
            "900:\ttest: 0.8593282\tbest: 0.8595564 (749)\ttotal: 8.57s\tremaining: 942ms\n",
            "999:\ttest: 0.8593897\tbest: 0.8595974 (986)\ttotal: 9.39s\tremaining: 0us\n",
            "\n",
            "bestTest = 0.8595974359\n",
            "bestIteration = 986\n",
            "\n",
            "Metric AUC is not calculated on train by default. To calculate this metric on train, add hints=skip_train~false to metric parameters.\n",
            "0:\ttest: 0.7811641\tbest: 0.7811641 (0)\ttotal: 9.85ms\tremaining: 9.84s\n",
            "100:\ttest: 0.8601513\tbest: 0.8604077 (89)\ttotal: 853ms\tremaining: 7.59s\n",
            "200:\ttest: 0.8557769\tbest: 0.8609103 (111)\ttotal: 1.7s\tremaining: 6.74s\n",
            "300:\ttest: 0.8521564\tbest: 0.8609103 (111)\ttotal: 2.54s\tremaining: 5.9s\n",
            "400:\ttest: 0.8456949\tbest: 0.8609103 (111)\ttotal: 3.38s\tremaining: 5.04s\n",
            "500:\ttest: 0.8432923\tbest: 0.8609103 (111)\ttotal: 4.59s\tremaining: 4.58s\n",
            "600:\ttest: 0.8407359\tbest: 0.8609103 (111)\ttotal: 5.97s\tremaining: 3.96s\n",
            "700:\ttest: 0.8388282\tbest: 0.8609103 (111)\ttotal: 7.03s\tremaining: 3s\n",
            "800:\ttest: 0.8358282\tbest: 0.8609103 (111)\ttotal: 7.88s\tremaining: 1.96s\n",
            "900:\ttest: 0.8356949\tbest: 0.8609103 (111)\ttotal: 8.73s\tremaining: 960ms\n",
            "999:\ttest: 0.8335590\tbest: 0.8609103 (111)\ttotal: 9.57s\tremaining: 0us\n",
            "\n",
            "bestTest = 0.8609102564\n",
            "bestIteration = 111\n",
            "\n",
            "Metric AUC is not calculated on train by default. To calculate this metric on train, add hints=skip_train~false to metric parameters.\n",
            "0:\ttest: 0.8068872\tbest: 0.8068872 (0)\ttotal: 10.8ms\tremaining: 10.8s\n",
            "100:\ttest: 0.8455590\tbest: 0.8455590 (100)\ttotal: 925ms\tremaining: 8.23s\n",
            "200:\ttest: 0.8530923\tbest: 0.8530923 (200)\ttotal: 1.85s\tremaining: 7.36s\n",
            "300:\ttest: 0.8563026\tbest: 0.8563410 (292)\ttotal: 2.77s\tremaining: 6.43s\n",
            "400:\ttest: 0.8578000\tbest: 0.8578385 (398)\ttotal: 3.71s\tremaining: 5.54s\n",
            "500:\ttest: 0.8583872\tbest: 0.8584821 (476)\ttotal: 4.63s\tremaining: 4.61s\n",
            "600:\ttest: 0.8588821\tbest: 0.8589487 (593)\ttotal: 5.57s\tremaining: 3.7s\n",
            "700:\ttest: 0.8587308\tbest: 0.8590282 (605)\ttotal: 6.49s\tremaining: 2.77s\n",
            "800:\ttest: 0.8584744\tbest: 0.8590282 (605)\ttotal: 7.76s\tremaining: 1.93s\n",
            "900:\ttest: 0.8583590\tbest: 0.8590282 (605)\ttotal: 9.2s\tremaining: 1.01s\n",
            "999:\ttest: 0.8581103\tbest: 0.8590282 (605)\ttotal: 10.3s\tremaining: 0us\n",
            "\n",
            "bestTest = 0.8590282051\n",
            "bestIteration = 605\n",
            "\n",
            "Metric AUC is not calculated on train by default. To calculate this metric on train, add hints=skip_train~false to metric parameters.\n",
            "0:\ttest: 0.8068872\tbest: 0.8068872 (0)\ttotal: 9.54ms\tremaining: 9.53s\n",
            "100:\ttest: 0.8554795\tbest: 0.8574051 (69)\ttotal: 949ms\tremaining: 8.44s\n",
            "200:\ttest: 0.8486359\tbest: 0.8574051 (69)\ttotal: 2.33s\tremaining: 9.26s\n",
            "300:\ttest: 0.8455051\tbest: 0.8574051 (69)\ttotal: 3.63s\tremaining: 8.43s\n",
            "400:\ttest: 0.8399846\tbest: 0.8574051 (69)\ttotal: 4.85s\tremaining: 7.25s\n",
            "500:\ttest: 0.8388077\tbest: 0.8574051 (69)\ttotal: 5.82s\tremaining: 5.79s\n",
            "600:\ttest: 0.8364026\tbest: 0.8574051 (69)\ttotal: 7.39s\tremaining: 4.91s\n",
            "700:\ttest: 0.8340974\tbest: 0.8574051 (69)\ttotal: 9.18s\tremaining: 3.91s\n",
            "800:\ttest: 0.8320769\tbest: 0.8574051 (69)\ttotal: 11.4s\tremaining: 2.83s\n",
            "900:\ttest: 0.8298923\tbest: 0.8574051 (69)\ttotal: 13.7s\tremaining: 1.5s\n",
            "999:\ttest: 0.8302846\tbest: 0.8574051 (69)\ttotal: 14.8s\tremaining: 0us\n",
            "\n",
            "bestTest = 0.8574051282\n",
            "bestIteration = 69\n",
            "\n",
            "Metric AUC is not calculated on train by default. To calculate this metric on train, add hints=skip_train~false to metric parameters.\n",
            "Training on fold [0/3]\n",
            "0:\ttest: 0.8023131\tbest: 0.8023131 (0)\ttotal: 8.87ms\tremaining: 8.86s\n",
            "100:\ttest: 0.8696792\tbest: 0.8705039 (90)\ttotal: 786ms\tremaining: 7s\n",
            "200:\ttest: 0.8691616\tbest: 0.8705039 (90)\ttotal: 1.54s\tremaining: 6.13s\n",
            "300:\ttest: 0.8649927\tbest: 0.8705039 (90)\ttotal: 2.33s\tremaining: 5.41s\n",
            "400:\ttest: 0.8618130\tbest: 0.8705039 (90)\ttotal: 3.11s\tremaining: 4.64s\n",
            "500:\ttest: 0.8585372\tbest: 0.8705039 (90)\ttotal: 3.88s\tremaining: 3.87s\n",
            "600:\ttest: 0.8560785\tbest: 0.8705039 (90)\ttotal: 4.64s\tremaining: 3.08s\n",
            "700:\ttest: 0.8535254\tbest: 0.8705039 (90)\ttotal: 5.41s\tremaining: 2.31s\n",
            "800:\ttest: 0.8519736\tbest: 0.8705039 (90)\ttotal: 6.2s\tremaining: 1.54s\n",
            "900:\ttest: 0.8499848\tbest: 0.8705039 (90)\ttotal: 6.96s\tremaining: 765ms\n",
            "999:\ttest: 0.8481197\tbest: 0.8705039 (90)\ttotal: 7.72s\tremaining: 0us\n",
            "\n",
            "bestTest = 0.8705039396\n",
            "bestIteration = 90\n",
            "\n",
            "Training on fold [1/3]\n",
            "0:\ttest: 0.7921723\tbest: 0.7921723 (0)\ttotal: 7.79ms\tremaining: 7.78s\n",
            "100:\ttest: 0.8705982\tbest: 0.8712713 (94)\ttotal: 1.16s\tremaining: 10.3s\n",
            "200:\ttest: 0.8665098\tbest: 0.8712713 (94)\ttotal: 2.42s\tremaining: 9.63s\n",
            "300:\ttest: 0.8628075\tbest: 0.8712713 (94)\ttotal: 3.41s\tremaining: 7.92s\n",
            "400:\ttest: 0.8613719\tbest: 0.8712713 (94)\ttotal: 4.22s\tremaining: 6.3s\n",
            "500:\ttest: 0.8585821\tbest: 0.8712713 (94)\ttotal: 5.01s\tremaining: 4.99s\n",
            "600:\ttest: 0.8552467\tbest: 0.8712713 (94)\ttotal: 5.79s\tremaining: 3.85s\n",
            "700:\ttest: 0.8529644\tbest: 0.8712713 (94)\ttotal: 6.59s\tremaining: 2.81s\n",
            "800:\ttest: 0.8514316\tbest: 0.8712713 (94)\ttotal: 7.38s\tremaining: 1.83s\n",
            "900:\ttest: 0.8502718\tbest: 0.8712713 (94)\ttotal: 8.18s\tremaining: 899ms\n",
            "999:\ttest: 0.8486688\tbest: 0.8712713 (94)\ttotal: 8.96s\tremaining: 0us\n",
            "\n",
            "bestTest = 0.8712713255\n",
            "bestIteration = 94\n",
            "\n",
            "Training on fold [2/3]\n",
            "0:\ttest: 0.7876129\tbest: 0.7876129 (0)\ttotal: 8.02ms\tremaining: 8.01s\n",
            "100:\ttest: 0.8656068\tbest: 0.8656805 (98)\ttotal: 785ms\tremaining: 6.98s\n",
            "200:\ttest: 0.8618255\tbest: 0.8657300 (108)\ttotal: 1.57s\tremaining: 6.26s\n",
            "300:\ttest: 0.8583852\tbest: 0.8657300 (108)\ttotal: 2.36s\tremaining: 5.48s\n",
            "400:\ttest: 0.8567639\tbest: 0.8657300 (108)\ttotal: 3.15s\tremaining: 4.7s\n",
            "500:\ttest: 0.8542379\tbest: 0.8657300 (108)\ttotal: 3.99s\tremaining: 3.97s\n",
            "600:\ttest: 0.8524682\tbest: 0.8657300 (108)\ttotal: 5.19s\tremaining: 3.45s\n",
            "700:\ttest: 0.8516927\tbest: 0.8657300 (108)\ttotal: 6.51s\tremaining: 2.78s\n",
            "800:\ttest: 0.8481899\tbest: 0.8657300 (108)\ttotal: 7.35s\tremaining: 1.82s\n",
            "900:\ttest: 0.8458981\tbest: 0.8657300 (108)\ttotal: 8.15s\tremaining: 895ms\n",
            "999:\ttest: 0.8452310\tbest: 0.8657300 (108)\ttotal: 8.93s\tremaining: 0us\n",
            "\n",
            "bestTest = 0.8657299818\n",
            "bestIteration = 108\n",
            "\n"
          ]
        }
      ]
    },
    {
      "cell_type": "code",
      "source": [
        "result['params']"
      ],
      "metadata": {
        "colab": {
          "base_uri": "https://localhost:8080/"
        },
        "id": "Qqz4YfmG5qRh",
        "outputId": "f912687c-357b-4dea-f74b-d4fa78429123"
      },
      "execution_count": null,
      "outputs": [
        {
          "output_type": "execute_result",
          "data": {
            "text/plain": [
              "{'depth': 5, 'learning_rate': 0.1}"
            ]
          },
          "metadata": {},
          "execution_count": 43
        }
      ]
    },
    {
      "cell_type": "code",
      "source": [
        "pd.DataFrame(result['cv_results'])['test-AUC-mean'].max()"
      ],
      "metadata": {
        "colab": {
          "base_uri": "https://localhost:8080/"
        },
        "id": "DP-l3f3u6Eef",
        "outputId": "9d6c1e26-102a-48c4-8c72-612b42797842"
      },
      "execution_count": null,
      "outputs": [
        {
          "output_type": "execute_result",
          "data": {
            "text/plain": [
              "0.8689660773549619"
            ]
          },
          "metadata": {},
          "execution_count": 44
        }
      ]
    },
    {
      "cell_type": "markdown",
      "source": [
        "# Принципы sklearn"
      ],
      "metadata": {
        "id": "BRew2fz4AjkD"
      }
    },
    {
      "cell_type": "markdown",
      "source": [
        "https://towardsdatascience.com/how-to-use-sklearn-pipelines-for-ridiculously-neat-code-a61ab66ca90d"
      ],
      "metadata": {
        "id": "8MeznnE-BLeh"
      }
    },
    {
      "cell_type": "markdown",
      "source": [
        "# Преодбработка и фичеинжениринг"
      ],
      "metadata": {
        "id": "z1RriLT3DFuq"
      }
    },
    {
      "cell_type": "markdown",
      "source": [
        "https://catboost.ai/en/docs/concepts/quantization"
      ],
      "metadata": {
        "id": "iqabc2KMqxhw"
      }
    },
    {
      "cell_type": "markdown",
      "source": [
        "https://www.kaggle.com/learn/feature-engineering"
      ],
      "metadata": {
        "id": "m8Fk0CgbDXKj"
      }
    },
    {
      "cell_type": "markdown",
      "source": [
        "# Калибровка"
      ],
      "metadata": {
        "id": "ooe7cpX2Dj8V"
      }
    },
    {
      "cell_type": "markdown",
      "source": [
        "https://www.kaggle.com/residentmario/notes-on-classification-probability-calibration"
      ],
      "metadata": {
        "id": "bBOvxi-ID0Ui"
      }
    },
    {
      "cell_type": "markdown",
      "source": [
        "# Catboost, тексты и эмбеддинги"
      ],
      "metadata": {
        "id": "3alYRP7TD41v"
      }
    },
    {
      "cell_type": "markdown",
      "source": [
        "https://github.com/catboost/catboost/blob/master/catboost/tutorials/events/2020_06_04_catboost_tutorial/text_features.ipynb"
      ],
      "metadata": {
        "id": "LDJewx3lEApw"
      }
    },
    {
      "cell_type": "markdown",
      "source": [
        "https://youtu.be/ZaP5qFSIcIw?t=3802"
      ],
      "metadata": {
        "id": "8oD3T0AMEgKW"
      }
    },
    {
      "cell_type": "markdown",
      "source": [
        "# Главные навыки для аналитика"
      ],
      "metadata": {
        "id": "KXqA-rIjH4W6"
      }
    },
    {
      "cell_type": "markdown",
      "source": [
        "- SQL\n",
        "- pandas\n",
        "- Основы статистики (AB тесты)"
      ],
      "metadata": {
        "id": "SHt6F0TWH8uY"
      }
    },
    {
      "cell_type": "markdown",
      "source": [
        "# Главные навыки для Дата Саентиста"
      ],
      "metadata": {
        "id": "TvU-1oOwIEsB"
      }
    },
    {
      "cell_type": "markdown",
      "source": [
        "- Все то же, что и у аналитика\n",
        "- Машинное обучение (sklearn, catboost)\n",
        "- более продвинутый python (основы ООП)\n",
        "- linux, git, docker, веб-сервисы"
      ],
      "metadata": {
        "id": "hOlWDmPfIKnM"
      }
    },
    {
      "cell_type": "markdown",
      "source": [
        "# Как развиваться дальше?"
      ],
      "metadata": {
        "id": "u54o5NyxEYNf"
      }
    },
    {
      "cell_type": "markdown",
      "source": [
        "- [Прикладное машинное обучение с помощью Scikit-Learn, Keras и TensorFlow: концепции, инструменты и техники для создания интеллектуальных систем, 2-е издание | Жерон Орельен](https://www.ozon.ru/product/prikladnoe-mashinnoe-obuchenie-s-pomoshchyu-scikit-learn-keras-i-tensorflow-kontseptsii-207392052/?sh=HC92ZQyhUQ)\n",
        "- Задачи на kaggle, вот [список](https://www.kaggle.com/getting-started/114864) для начинающих\n",
        "- Откликайся на вакансии и решай тестовые. Можешь смотреть [тестовые по дс у меня на канале](https://www.youtube.com/playlist?list=PLQJ7ptkRY-xbefSg1XN3FA-SdSRFcCQfn)\n",
        "- [Мой курс по статистике](https://www.youtube.com/playlist?list=PLQJ7ptkRY-xbHLLI66KdscKp_FJt0FsIi)\n",
        "- Задачи по pandas и sql на [StrataScratch](https://www.stratascratch.com/?via=gleb)\n",
        "- [Мой курс по SQL](https://www.udemy.com/course/sql-with-gleb/?referralCode=C99EC81AE75FEC9F50A2)\n",
        "- Задачи на [itresume](https://itresume.ru/)\n",
        "- Задачи на [Checkio](https://checkio.org/)\n",
        "- Задачи на [Leetcode](https://leetcode.com/) вот по этому [списку](https://seanprashad.com/leetcode-patterns/)\n",
        "- Мой [плейлист](https://www.youtube.com/playlist?list=PLQJ7ptkRY-xZ4qiXlmQQLgAPyXJhQ7HxZ) по основам Linux\n",
        "- [Основы Git](https://youtu.be/0cGIiA0AjNw)\n",
        "- [Основы докера](https://www.youtube.com/playlist?list=PLQJ7ptkRY-xbR0ka2TUxJkXna40XWu92m)\n",
        "- [Основы веб-сервисов](https://www.youtube.com/playlist?list=PLQJ7ptkRY-xYLEAC5Y_sKqrJ9RA-U7Dja)"
      ],
      "metadata": {
        "id": "XZbY3rO3E9wS"
      }
    },
    {
      "cell_type": "markdown",
      "source": [
        "# Дополнительные материалы"
      ],
      "metadata": {
        "id": "rDogw1UBFAXl"
      }
    },
    {
      "cell_type": "markdown",
      "source": [
        "- [Как работает градиентный бустинг](https://youtu.be/ZNJ3lKyI-EY)\n",
        "- [Как учить английский](https://youtu.be/f9Q4Mwvd5pc)\n",
        "- [Как искать работу](https://deepnote.com/@gleb-mikhaylov-15d6/blog-posts-nXDqO5CTQYOreNE53H3y-A)"
      ],
      "metadata": {
        "id": "MTWpDVdoKzG2"
      }
    }
  ]
}